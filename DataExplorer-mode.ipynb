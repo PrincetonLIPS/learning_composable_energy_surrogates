{
 "cells": [
  {
   "cell_type": "code",
   "execution_count": null,
   "metadata": {},
   "outputs": [],
   "source": [
    "import os\n",
    "from src.viz.plotting import plot_boundary\n",
    "from src.maps.function_space_map import FunctionSpaceMap\n",
    "from src.geometry.remove_rigid_body import RigidRemover\n",
    "from src.pde.metamaterial import Metamaterial\n",
    "from src.data.sample_params import make_bc\n",
    "from src import fa_combined as fa\n",
    "\n",
    "import torch\n",
    "import numpy as np\n",
    "import matplotlib.pyplot as plt\n",
    "from src.arguments import parser\n",
    "import sys\n",
    "\n",
    "sys.argv = ['-f']\n",
    "args = parser.parse_args(['--bV_dim', '10'])"
   ]
  },
  {
   "cell_type": "code",
   "execution_count": null,
   "metadata": {},
   "outputs": [],
   "source": [
    "args.boundary_gauss_scale"
   ]
  },
  {
   "cell_type": "code",
   "execution_count": null,
   "metadata": {},
   "outputs": [],
   "source": [
    "args.boundary_freq_scale = 10.0\n",
    "args.boundary_amp_scale = 0.5\n",
    "args.boundary_gauss_scale = 0.0\n",
    "args.boundary_sin_scale = 0.4\n",
    "\n",
    "'''\n",
    "args.boundary_freq_scale = 20.0\n",
    "args.boundary_amp_scale = 0.2\n",
    "args.boundary_sin_scale = 0.4\n",
    "args.boundary_ax_scale = 0.4\n",
    "args.boundary_shear_scale = 0.03\n",
    "args.boundary_gauss_scale = 0.02\n",
    "'''"
   ]
  },
  {
   "cell_type": "code",
   "execution_count": null,
   "metadata": {},
   "outputs": [],
   "source": []
  },
  {
   "cell_type": "code",
   "execution_count": null,
   "metadata": {},
   "outputs": [],
   "source": []
  },
  {
   "cell_type": "code",
   "execution_count": null,
   "metadata": {},
   "outputs": [],
   "source": [
    "from src.energy_model.fenics_energy_model import FenicsEnergyModel\n",
    "\n",
    "pde = Metamaterial(args)\n",
    "pde.args.relaxation_parameter = 1.0\n",
    "fsm = FunctionSpaceMap(pde.V, args.bV_dim, cuda=False)\n",
    "fsm2 = FunctionSpaceMap(pde.V, 5, cuda=False)\n",
    "\n",
    "fem = FenicsEnergyModel(args, pde, fsm)\n",
    "fem2 = FenicsEnergyModel(args, pde, fsm2)\n",
    "\n",
    "rigid_remover = RigidRemover(fsm)"
   ]
  },
  {
   "cell_type": "code",
   "execution_count": null,
   "metadata": {},
   "outputs": [],
   "source": [
    "import random\n",
    "\n",
    "def leapfrog(q, p, dVdq, path_len, step_size):\n",
    "    p -= step_size * dVdq(q) / 2  # half step\n",
    "    for _ in range(int(path_len / step_size) - 1):\n",
    "        q += step_size * p  # whole step\n",
    "        p -= step_size * dVdq(q)  # whole step\n",
    "    q += step_size * p  # whole step\n",
    "    p -= step_size * dVdq(q) / 2  # half step\n",
    "\n",
    "    # momentum flip at end\n",
    "    return q, -p\n",
    "\n",
    "\n",
    "def make_dpoint(ub, initial_guess):\n",
    "    f, J, H = fem.f_J_H(ub, initial_guess=initial_guess)\n",
    "    return (ub, None, f, fsm.to_torch(J), H)\n",
    "\n",
    "def make_data_hmc(stddev, step_size, n_steps, save_every):\n",
    "    q = torch.zeros(fsm.vector_dim)\n",
    "    p = torch.randn(fsm.vector_dim) * stddev\n",
    "    initial_guess = fa.Function(pde.V).vector()\n",
    "    data = []\n",
    "    for i in range(n_steps):  \n",
    "        print(\"hmc step \", i)\n",
    "        try:\n",
    "            f, JV, u = fem.f_J(q, initial_guess=initial_guess,\n",
    "                               return_u=True)\n",
    "        except Exception as e:\n",
    "            return data\n",
    "        print(f)\n",
    "        initial_guess = u.vector()\n",
    "        J = fsm.to_torch(JV)\n",
    "        print(J)\n",
    "        \n",
    "        if (i+1) % save_every == 0:\n",
    "            data.append(make_dpoint(q, initial_guess))\n",
    "\n",
    "        q += step_size * p\n",
    "        p -= step_size * J\n",
    "    return data\n"
   ]
  },
  {
   "cell_type": "code",
   "execution_count": null,
   "metadata": {},
   "outputs": [],
   "source": [
    "fa.set_log_level(20)\n",
    "hmc_data = []\n",
    "for i in range(100):\n",
    "    hmc_data.append(make_data_hmc(1.0, 1e-5, int(10e3), 10e3))"
   ]
  },
  {
   "cell_type": "code",
   "execution_count": null,
   "metadata": {},
   "outputs": [],
   "source": [
    "hmc_data_all = [d for hmc in hmc_data for d in hmc]\n",
    "print(len(hmc_data_all))"
   ]
  },
  {
   "cell_type": "code",
   "execution_count": null,
   "metadata": {},
   "outputs": [],
   "source": [
    "\n",
    "for _ in range(min([100, len(hmc_data_all)):\n",
    "    i = np.random.randint(len(hmc_data_all))\n",
    "    u, _, _, _, _ = hmc_data_all[i]\n",
    "    u = u * 0.4\n",
    "    # for u, p, f, J in np.random.choice(train_data, size=4): \n",
    "    plt.figure(figsize=(5,5))\n",
    "    plot_boundary(\n",
    "        lambda x: (0, 0),\n",
    "        200,\n",
    "        label=\"reference\",\n",
    "        color=\"k\",\n",
    "    )\n",
    "    plot_boundary(\n",
    "        fsm.get_query_fn(u),\n",
    "        200,\n",
    "        label=\"ub\",\n",
    "        linestyle=\"-\",\n",
    "        color=\"darkorange\",\n",
    "    )\n",
    "    plot_boundary(\n",
    "        fsm.get_query_fn(\n",
    "            rigid_remover(u.unsqueeze(0)).squeeze(0)\n",
    "        ),\n",
    "        200,\n",
    "        label=\"rigid removed\",\n",
    "        linestyle=\"--\",\n",
    "        color=\"blue\",\n",
    "    )\n",
    "    plt.legend()\n",
    "    plt.show()"
   ]
  },
  {
   "cell_type": "code",
   "execution_count": null,
   "metadata": {},
   "outputs": [],
   "source": [
    "print(hmc_data)"
   ]
  },
  {
   "cell_type": "code",
   "execution_count": null,
   "metadata": {},
   "outputs": [],
   "source": [
    "train_data = [] \n",
    "for i in range (int(10000)):\n",
    "    if i % 100 == 0:\n",
    "        print(i)\n",
    "    u, _, _, _ = make_bc(args, fsm)\n",
    "    u = fsm.to_ring(u)\n",
    "    train_data.append([u, None, None, None])"
   ]
  },
  {
   "cell_type": "code",
   "execution_count": null,
   "metadata": {},
   "outputs": [],
   "source": [
    "for _ in range(100):\n",
    "    i = np.random.randint(len(train_data))\n",
    "    u, _, _, _ = train_data[i]\n",
    "    u = u * 0.4\n",
    "    # for u, p, f, J in np.random.choice(train_data, size=4): \n",
    "    plt.figure(figsize=(5,5))\n",
    "    plot_boundary(\n",
    "        lambda x: (0, 0),\n",
    "        200,\n",
    "        label=\"reference\",\n",
    "        color=\"k\",\n",
    "    )\n",
    "    plot_boundary(\n",
    "        fsm.get_query_fn(u),\n",
    "        200,\n",
    "        label=\"ub\",\n",
    "        linestyle=\"-\",\n",
    "        color=\"darkorange\",\n",
    "    )\n",
    "    plot_boundary(\n",
    "        fsm.get_query_fn(\n",
    "            rigid_remover(u.unsqueeze(0)).squeeze(0)\n",
    "        ),\n",
    "        200,\n",
    "        label=\"rigid removed\",\n",
    "        linestyle=\"--\",\n",
    "        color=\"blue\",\n",
    "    )\n",
    "    plt.legend()\n",
    "    plt.show()"
   ]
  },
  {
   "cell_type": "code",
   "execution_count": null,
   "metadata": {},
   "outputs": [],
   "source": [
    "from src import fa_combined as fa\n",
    "import math\n",
    "'''\n",
    "expr = fa.Expression(\n",
    "          ('a*sin(b*x[1]+t)', '-a*sin(b*x[0]+t)'),\n",
    "          a=0.1,\n",
    "          b=2*math.pi,\n",
    "          t=0,\n",
    "          degree=2)\n",
    "expr2 = fa.Expression(\n",
    "          ('0.0', '-0.125*x[1]'),\n",
    "          degree=2)\n",
    "'''\n",
    "true_cell_coords = torch.load('true_cell_coords.pt').cpu()\n",
    "\n",
    "# bdata = fsm.to_ring(expr) + fsm.to_ring(expr2)\n",
    "bdata = true_cell_coords[2]"
   ]
  },
  {
   "cell_type": "code",
   "execution_count": null,
   "metadata": {},
   "outputs": [],
   "source": [
    "u = bdata\n",
    "plt.figure(figsize=(5,5))\n",
    "plot_boundary(\n",
    "    lambda x: (0, 0),\n",
    "    200,\n",
    "    label=\"reference\",\n",
    "    color=\"k\",\n",
    ")\n",
    "plot_boundary(\n",
    "    fsm.get_query_fn(u),\n",
    "    200,\n",
    "    label=\"ub\",\n",
    "    linestyle=\"-\",\n",
    "    color=\"darkorange\",\n",
    ")\n",
    "plot_boundary(\n",
    "    fsm.get_query_fn(\n",
    "        rigid_remover(u.unsqueeze(0)).squeeze(0)\n",
    "    ),\n",
    "    200,\n",
    "    label=\"rigid removed\",\n",
    "    linestyle=\"--\",\n",
    "    color=\"blue\",\n",
    ")\n",
    "plt.legend()\n",
    "plt.show()"
   ]
  },
  {
   "cell_type": "code",
   "execution_count": null,
   "metadata": {},
   "outputs": [],
   "source": [
    "us = [rigid_remover(ui.unsqueeze(0)).squeeze(0) for ui, _, _, _ in train_data]\n",
    "u = rigid_remover(bdata.unsqueeze(0)).squeeze(0)\n",
    "uorig = u\n",
    "dists = torch.stack([(u*ui).sum()/(u.norm()*ui.norm()) for ui in us], dim=0)\n",
    "for i in range(10): \n",
    "    idx = torch.argmax(dists)\n",
    "    dists[idx] = torch.min(dists)\n",
    "\n",
    "    u = uorig.norm() * us[idx]/us[idx].norm()\n",
    "    plt.figure(figsize=(5,5))\n",
    "    plot_boundary(\n",
    "        lambda x: (0, 0),\n",
    "        200,\n",
    "        label=\"reference\",\n",
    "        color=\"k\",\n",
    "    )\n",
    "    plot_boundary(\n",
    "        fsm.get_query_fn(u),\n",
    "        200,\n",
    "        label=\"ub\",\n",
    "        linestyle=\"-\",\n",
    "        color=\"darkorange\",\n",
    "    )\n",
    "    plot_boundary(\n",
    "        fsm.get_query_fn(\n",
    "            rigid_remover(u.unsqueeze(0)).squeeze(0)\n",
    "        ),\n",
    "        200,\n",
    "        label=\"rigid removed\",\n",
    "        linestyle=\"--\",\n",
    "        color=\"blue\",\n",
    "    )\n",
    "    plot_boundary(\n",
    "        fsm.get_query_fn(bdata),\n",
    "        200,\n",
    "        label=\"bdata\",\n",
    "        linestyle=\"dotted\",\n",
    "        color=\"darkorange\",\n",
    "    )\n",
    "    plot_boundary(\n",
    "        fsm.get_query_fn(\n",
    "            rigid_remover(bdata.unsqueeze(0)).squeeze(0)\n",
    "        ),\n",
    "        200,\n",
    "        label=\"rigid removed\",\n",
    "        linestyle=\"dotted\",\n",
    "        color=\"blue\",\n",
    "    )\n",
    "    plt.legend()\n",
    "    plt.show()"
   ]
  },
  {
   "cell_type": "code",
   "execution_count": null,
   "metadata": {},
   "outputs": [],
   "source": [
    "dists = torch.stack([(u*ui).sum()/(u.norm()*ui.norm()) for ui in us], dim=0)"
   ]
  },
  {
   "cell_type": "code",
   "execution_count": null,
   "metadata": {},
   "outputs": [],
   "source": [
    "closest = us[torch.argmax(dists)] * uorig.norm() * us[torch.argmax(dists)].norm()"
   ]
  },
  {
   "cell_type": "code",
   "execution_count": null,
   "metadata": {},
   "outputs": [],
   "source": [
    "fsm.V == pde.V"
   ]
  },
  {
   "cell_type": "code",
   "execution_count": null,
   "metadata": {},
   "outputs": [],
   "source": [
    "init_guess = fa.Function(pde.V).vector()\n",
    "for i in range(10):\n",
    "    boundary_fn = fsm.to_V(closest*(i+1)/10)\n",
    "    uV = pde.solve_problem(\n",
    "            args=args, boundary_fn=boundary_fn, initial_guess=init_guess\n",
    "        )\n",
    "    energy = pde.energy(uV)\n",
    "    print(energy)\n",
    "    print(type(energy))\n",
    "    JV = fa.compute_gradient(energy, fa.Control(boundary_fn))\n",
    "    init_guess = uV.vector()"
   ]
  },
  {
   "cell_type": "code",
   "execution_count": null,
   "metadata": {},
   "outputs": [],
   "source": [
    "print(fa.Control(boundary_fn).block_variable.adj_value)"
   ]
  },
  {
   "cell_type": "code",
   "execution_count": null,
   "metadata": {},
   "outputs": [],
   "source": []
  },
  {
   "cell_type": "code",
   "execution_count": null,
   "metadata": {},
   "outputs": [],
   "source": [
    "Jdata = fsm.to_ring(JV)"
   ]
  },
  {
   "cell_type": "code",
   "execution_count": null,
   "metadata": {},
   "outputs": [],
   "source": [
    "print(f)"
   ]
  },
  {
   "cell_type": "code",
   "execution_count": null,
   "metadata": {},
   "outputs": [],
   "source": [
    "print((closest-bdata).norm())"
   ]
  },
  {
   "cell_type": "code",
   "execution_count": null,
   "metadata": {},
   "outputs": [],
   "source": [
    "for i in range(10):\n",
    "    print((closest-(i/10)*Jdata-bdata).norm())"
   ]
  },
  {
   "cell_type": "code",
   "execution_count": null,
   "metadata": {},
   "outputs": [],
   "source": []
  },
  {
   "cell_type": "code",
   "execution_count": null,
   "metadata": {},
   "outputs": [],
   "source": [
    "fa.plot(fsm.to_V(bdata), mode='displacement')"
   ]
  },
  {
   "cell_type": "code",
   "execution_count": null,
   "metadata": {},
   "outputs": [],
   "source": [
    "fa.plot(fsm.to_V(fsm.to_torch(fsm.to_V(bdata))), mode='displacement')"
   ]
  },
  {
   "cell_type": "code",
   "execution_count": null,
   "metadata": {},
   "outputs": [],
   "source": [
    "fa.plot(fsm2.to_V(fsm2.to_torch(fsm.to_V(bdata))), mode='displacement')"
   ]
  },
  {
   "cell_type": "code",
   "execution_count": null,
   "metadata": {},
   "outputs": [],
   "source": [
    "fem.f(fsm.to_V(bdata))"
   ]
  },
  {
   "cell_type": "code",
   "execution_count": null,
   "metadata": {},
   "outputs": [],
   "source": [
    "fem2.f(fsm2.to_V(fsm2.to_torch(fsm.to_V(bdata))))"
   ]
  },
  {
   "cell_type": "code",
   "execution_count": null,
   "metadata": {},
   "outputs": [],
   "source": [
    "pde.energy(fsm.to_V(bdata))"
   ]
  },
  {
   "cell_type": "code",
   "execution_count": null,
   "metadata": {},
   "outputs": [],
   "source": [
    "pde.energy(fsm2.to_V(fsm2.to_torch(fsm.to_V(bdata))))"
   ]
  },
  {
   "cell_type": "code",
   "execution_count": null,
   "metadata": {},
   "outputs": [],
   "source": [
    "pde.energy(fsm.to_V(fsm.to_torch(fsm2.to_V(fsm2.to_torch(fsm.to_V(bdata))))))"
   ]
  },
  {
   "cell_type": "code",
   "execution_count": null,
   "metadata": {},
   "outputs": [],
   "source": [
    "fsm.to_torch(bdata) - fsm.to_torch(fsm.to_V(bdata))"
   ]
  },
  {
   "cell_type": "code",
   "execution_count": null,
   "metadata": {},
   "outputs": [],
   "source": [
    "fsm.to_torch(bdata) - fsm.to_torch(fsm2.to_V(fsm2.to_torch(fsm.to_V(bdata))))"
   ]
  },
  {
   "cell_type": "code",
   "execution_count": null,
   "metadata": {},
   "outputs": [],
   "source": []
  }
 ],
 "metadata": {
  "kernelspec": {
   "display_name": "Python 3",
   "language": "python",
   "name": "python3"
  },
  "language_info": {
   "codemirror_mode": {
    "name": "ipython",
    "version": 3
   },
   "file_extension": ".py",
   "mimetype": "text/x-python",
   "name": "python",
   "nbconvert_exporter": "python",
   "pygments_lexer": "ipython3",
   "version": "3.6.3"
  }
 },
 "nbformat": 4,
 "nbformat_minor": 2
}
